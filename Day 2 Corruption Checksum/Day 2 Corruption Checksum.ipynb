{
 "cells": [
  {
   "cell_type": "markdown",
   "metadata": {},
   "source": [
    "### Day 2: Corruption Checksum \n",
    "\n",
    "As you walk through the door, a glowing humanoid shape yells in your direction. \"You there! Your state appears to be idle. Come help us repair the corruption in this spreadsheet - if we take another millisecond, we'll have to display an hourglass cursor!\"\n",
    "\n",
    "The spreadsheet consists of rows of apparently-random numbers. To make sure the recovery process is on the right track, they need you to calculate the spreadsheet's checksum. For each row, determine the difference between the largest value and the smallest value; the checksum is the sum of all of these differences.\n",
    "\n",
    "For example, given the following spreadsheet:\n",
    "\n",
    "5 1 9 5  \n",
    "7 5 3  \n",
    "2 4 6 8  \n",
    "\n",
    "\n",
    "The first row's largest and smallest values are 9 and 1, and their difference is 8.  \n",
    "The second row's largest and smallest values are 7 and 3, and their difference is 4.  \n",
    "The third row's difference is 6.  \n",
    "In this example, the spreadsheet's checksum would be 8 + 4 + 6 = 18.  \n",
    "\n",
    "What is the checksum for the spreadsheet in your puzzle input?"
   ]
  },
  {
   "cell_type": "code",
   "execution_count": 1,
   "metadata": {},
   "outputs": [],
   "source": [
    "import itertools as it"
   ]
  },
  {
   "cell_type": "code",
   "execution_count": 2,
   "metadata": {},
   "outputs": [],
   "source": [
    "def convert_file(input_file):\n",
    "    numbers = []\n",
    "    with open(input_file, 'r') as f:\n",
    "        for line in f:\n",
    "            numbers += [[int(num) for num in line.split()]]\n",
    "    return numbers"
   ]
  },
  {
   "cell_type": "code",
   "execution_count": 3,
   "metadata": {},
   "outputs": [],
   "source": [
    "def part_one():\n",
    "    checksum = []\n",
    "    nums = convert_file('input.txt')\n",
    "    checksum += [(max(one_list) - min(one_list)) for one_list in nums]\n",
    "    \n",
    "    return sum(checksum)"
   ]
  },
  {
   "cell_type": "code",
   "execution_count": 4,
   "metadata": {},
   "outputs": [
    {
     "data": {
      "text/plain": [
       "41887"
      ]
     },
     "execution_count": 4,
     "metadata": {},
     "output_type": "execute_result"
    }
   ],
   "source": [
    "part_one()"
   ]
  },
  {
   "cell_type": "markdown",
   "metadata": {},
   "source": [
    "### Part Two\n",
    "\n",
    "\"Based on what we're seeing, it looks like all the User wanted is some information about the evenly divisible values in the spreadsheet. Unfortunately, none of us are equipped for that kind of calculation - most of us specialize in bitwise operations.\"\n",
    "\n",
    "It sounds like the goal is to find the only two numbers in each row where one evenly divides the other - that is, where the result of the division operation is a whole number. They would like you to find those numbers on each line, divide them, and add up each line's result.\n",
    "\n",
    "For example, given the following spreadsheet:\n",
    "\n",
    "5 9 2 8   \n",
    "9 4 7 3   \n",
    "3 8 6 5   \n",
    "In the first row, the only two numbers that evenly divide are 8 and 2; the result of this division is 4.   \n",
    "In the second row, the two numbers are 9 and 3; the result is 3.  \n",
    "In the third row, the result is 2.  \n",
    "In this example, the sum of the results would be 4 + 3 + 2 = 9.  \n",
    "\n",
    "What is the sum of each row's result in your puzzle input?"
   ]
  },
  {
   "cell_type": "code",
   "execution_count": 5,
   "metadata": {},
   "outputs": [],
   "source": [
    "def part_two():\n",
    "    checksum = 0\n",
    "    nums = convert_file('input.txt')\n",
    "    for num_list in nums:\n",
    "        for combi in list(it.permutations(num_list, 2)):\n",
    "            if (combi[0] % combi[1] == 0):\n",
    "                checksum += (combi[0] / combi[1])\n",
    "                break\n",
    "                \n",
    "    return int(checksum)"
   ]
  },
  {
   "cell_type": "code",
   "execution_count": 6,
   "metadata": {},
   "outputs": [
    {
     "data": {
      "text/plain": [
       "226"
      ]
     },
     "execution_count": 6,
     "metadata": {},
     "output_type": "execute_result"
    }
   ],
   "source": [
    "part_two()"
   ]
  }
 ],
 "metadata": {
  "kernelspec": {
   "display_name": "Python 3",
   "language": "python",
   "name": "python3"
  },
  "language_info": {
   "codemirror_mode": {
    "name": "ipython",
    "version": 3
   },
   "file_extension": ".py",
   "mimetype": "text/x-python",
   "name": "python",
   "nbconvert_exporter": "python",
   "pygments_lexer": "ipython3",
   "version": "3.6.6"
  }
 },
 "nbformat": 4,
 "nbformat_minor": 2
}
