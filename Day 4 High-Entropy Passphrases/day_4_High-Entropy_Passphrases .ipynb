{
 "cells": [
  {
   "cell_type": "markdown",
   "metadata": {},
   "source": [
    "### Day 4: High-Entropy Passphrases \n",
    "\n",
    "A new system policy has been put in place that requires all accounts to use a passphrase instead of simply a password. A passphrase consists of a series of words (lowercase letters) separated by spaces.\n",
    "\n",
    "To ensure security, a valid passphrase must contain no duplicate words.\n",
    "\n",
    "For example:\n",
    "\n",
    "aa bb cc dd ee is valid.  \n",
    "aa bb cc dd aa is not valid - the word aa appears more than once.  \n",
    "aa bb cc dd aaa is valid - aa and aaa count as different words.  \n",
    "The system's full passphrase list is available as your puzzle input. How many passphrases are valid?  "
   ]
  },
  {
   "cell_type": "code",
   "execution_count": 1,
   "metadata": {},
   "outputs": [],
   "source": [
    "from collections import Counter\n",
    "import itertools as it"
   ]
  },
  {
   "cell_type": "code",
   "execution_count": 2,
   "metadata": {},
   "outputs": [],
   "source": [
    "def part_one():\n",
    "    result = 0\n",
    "    with open('input.txt', 'r') as f:\n",
    "        for line in f:\n",
    "            if len(line.split()) == len(set(line.split())):\n",
    "                result += 1\n",
    "    return result\n",
    "            "
   ]
  },
  {
   "cell_type": "code",
   "execution_count": 3,
   "metadata": {},
   "outputs": [
    {
     "data": {
      "text/plain": [
       "455"
      ]
     },
     "execution_count": 3,
     "metadata": {},
     "output_type": "execute_result"
    }
   ],
   "source": [
    "part_one()"
   ]
  },
  {
   "cell_type": "markdown",
   "metadata": {},
   "source": [
    "### Part Two\n",
    "\n",
    "For added security, yet another system policy has been put in place. Now, a valid passphrase must contain no two words that are anagrams of each other - that is, a passphrase is invalid if any word's letters can be rearranged to form any other word in the passphrase.\n",
    "\n",
    "For example:\n",
    "\n",
    "abcde fghij is a valid passphrase.  \n",
    "abcde xyz ecdab is not valid - the letters from the third word can be rearranged to form the first word.  \n",
    "a ab abc abd abf abj is a valid passphrase, because all letters need to be used when forming another word.  \n",
    "iiii oiii ooii oooi oooo is valid.  \n",
    "oiii ioii iioi iiio is not valid - any of these words can be rearranged to form any other word.  \n",
    "Under this new system policy, how many passphrases are valid?  "
   ]
  },
  {
   "cell_type": "code",
   "execution_count": 4,
   "metadata": {},
   "outputs": [],
   "source": [
    "def part_two():\n",
    "    valid_passes = 0\n",
    "    with open('input.txt', 'r') as f:\n",
    "        for line in f:\n",
    "            valid = True\n",
    "            for combi in list(it.permutations(line.split(), 2)):\n",
    "                if Counter(combi[0]) == Counter(combi[1]):\n",
    "                    valid = False\n",
    "                    break\n",
    "                \n",
    "            if valid:\n",
    "                valid_passes += 1\n",
    "                \n",
    "    return valid_passes"
   ]
  },
  {
   "cell_type": "code",
   "execution_count": 5,
   "metadata": {},
   "outputs": [
    {
     "data": {
      "text/plain": [
       "186"
      ]
     },
     "execution_count": 5,
     "metadata": {},
     "output_type": "execute_result"
    }
   ],
   "source": [
    "part_two()"
   ]
  }
 ],
 "metadata": {
  "kernelspec": {
   "display_name": "Python 3",
   "language": "python",
   "name": "python3"
  },
  "language_info": {
   "codemirror_mode": {
    "name": "ipython",
    "version": 3
   },
   "file_extension": ".py",
   "mimetype": "text/x-python",
   "name": "python",
   "nbconvert_exporter": "python",
   "pygments_lexer": "ipython3",
   "version": "3.6.6"
  }
 },
 "nbformat": 4,
 "nbformat_minor": 2
}
