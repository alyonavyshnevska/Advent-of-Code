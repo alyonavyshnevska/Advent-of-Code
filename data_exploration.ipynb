{
  "nbformat": 4,
  "nbformat_minor": 0,
  "metadata": {
    "colab": {
      "name": "data_exploration.ipynb",
      "provenance": [],
      "collapsed_sections": [],
      "include_colab_link": true
    },
    "kernelspec": {
      "name": "python3",
      "display_name": "Python 3"
    }
  },
  "cells": [
    {
      "cell_type": "markdown",
      "metadata": {
        "id": "view-in-github",
        "colab_type": "text"
      },
      "source": [
        "<a href=\"https://colab.research.google.com/github/alyonavyshnevska/Advent-of-Code/blob/master/data_exploration.ipynb\" target=\"_parent\"><img src=\"https://colab.research.google.com/assets/colab-badge.svg\" alt=\"Open In Colab\"/></a>"
      ]
    },
    {
      "cell_type": "code",
      "metadata": {
        "id": "-CzLPhNBhCsM",
        "colab_type": "code",
        "colab": {}
      },
      "source": [
        "import pandas as pd"
      ],
      "execution_count": 0,
      "outputs": []
    },
    {
      "cell_type": "code",
      "metadata": {
        "id": "UBot7bllnDIq",
        "colab_type": "code",
        "colab": {}
      },
      "source": [
        "trial_vars_1 = pd.read_csv('1_1_TrialVars.csv', sep='\\t')"
      ],
      "execution_count": 0,
      "outputs": []
    },
    {
      "cell_type": "code",
      "metadata": {
        "id": "YdL3KK-2tgr6",
        "colab_type": "code",
        "colab": {
          "base_uri": "https://localhost:8080/",
          "height": 419
        },
        "outputId": "d7ea53f6-7498-4c80-97fa-4ea1ca6d2fbe"
      },
      "source": [
        "trial_vars_1.head(-10)"
      ],
      "execution_count": 17,
      "outputs": [
        {
          "output_type": "execute_result",
          "data": {
            "text/html": [
              "<div>\n",
              "<style scoped>\n",
              "    .dataframe tbody tr th:only-of-type {\n",
              "        vertical-align: middle;\n",
              "    }\n",
              "\n",
              "    .dataframe tbody tr th {\n",
              "        vertical-align: top;\n",
              "    }\n",
              "\n",
              "    .dataframe thead th {\n",
              "        text-align: right;\n",
              "    }\n",
              "</style>\n",
              "<table border=\"1\" class=\"dataframe\">\n",
              "  <thead>\n",
              "    <tr style=\"text-align: right;\">\n",
              "      <th></th>\n",
              "      <th>trialId</th>\n",
              "      <th>seqId</th>\n",
              "      <th>grid</th>\n",
              "      <th>dur</th>\n",
              "      <th>locP1</th>\n",
              "      <th>locP2</th>\n",
              "      <th>locP3</th>\n",
              "      <th>locP4</th>\n",
              "      <th>locP5</th>\n",
              "    </tr>\n",
              "  </thead>\n",
              "  <tbody>\n",
              "    <tr>\n",
              "      <th>0</th>\n",
              "      <td>1</td>\n",
              "      <td>80</td>\n",
              "      <td>0.35</td>\n",
              "      <td>500</td>\n",
              "      <td>(704, 563)</td>\n",
              "      <td>(576, 563)</td>\n",
              "      <td>(576, 461)</td>\n",
              "      <td>(704, 666)</td>\n",
              "      <td>(832, 563)</td>\n",
              "    </tr>\n",
              "    <tr>\n",
              "      <th>1</th>\n",
              "      <td>2</td>\n",
              "      <td>42</td>\n",
              "      <td>0.40</td>\n",
              "      <td>250</td>\n",
              "      <td>(683, 478)</td>\n",
              "      <td>(768, 410)</td>\n",
              "      <td>(768, 478)</td>\n",
              "      <td>(512, 614)</td>\n",
              "      <td>(683, 546)</td>\n",
              "    </tr>\n",
              "    <tr>\n",
              "      <th>2</th>\n",
              "      <td>3</td>\n",
              "      <td>55</td>\n",
              "      <td>0.35</td>\n",
              "      <td>1500</td>\n",
              "      <td>(832, 563)</td>\n",
              "      <td>(448, 358)</td>\n",
              "      <td>(448, 461)</td>\n",
              "      <td>(704, 461)</td>\n",
              "      <td>(832, 461)</td>\n",
              "    </tr>\n",
              "    <tr>\n",
              "      <th>3</th>\n",
              "      <td>4</td>\n",
              "      <td>66</td>\n",
              "      <td>0.35</td>\n",
              "      <td>1000</td>\n",
              "      <td>(576, 666)</td>\n",
              "      <td>(704, 666)</td>\n",
              "      <td>(832, 461)</td>\n",
              "      <td>(576, 358)</td>\n",
              "      <td>(832, 666)</td>\n",
              "    </tr>\n",
              "    <tr>\n",
              "      <th>4</th>\n",
              "      <td>5</td>\n",
              "      <td>81</td>\n",
              "      <td>0.35</td>\n",
              "      <td>500</td>\n",
              "      <td>(832, 461)</td>\n",
              "      <td>(832, 563)</td>\n",
              "      <td>(448, 461)</td>\n",
              "      <td>(576, 461)</td>\n",
              "      <td>(704, 563)</td>\n",
              "    </tr>\n",
              "    <tr>\n",
              "      <th>...</th>\n",
              "      <td>...</td>\n",
              "      <td>...</td>\n",
              "      <td>...</td>\n",
              "      <td>...</td>\n",
              "      <td>...</td>\n",
              "      <td>...</td>\n",
              "      <td>...</td>\n",
              "      <td>...</td>\n",
              "      <td>...</td>\n",
              "    </tr>\n",
              "    <tr>\n",
              "      <th>129</th>\n",
              "      <td>130</td>\n",
              "      <td>87</td>\n",
              "      <td>0.35</td>\n",
              "      <td>250</td>\n",
              "      <td>(448, 563)</td>\n",
              "      <td>(448, 461)</td>\n",
              "      <td>(704, 461)</td>\n",
              "      <td>(832, 666)</td>\n",
              "      <td>(832, 461)</td>\n",
              "    </tr>\n",
              "    <tr>\n",
              "      <th>130</th>\n",
              "      <td>131</td>\n",
              "      <td>121</td>\n",
              "      <td>0.25</td>\n",
              "      <td>500</td>\n",
              "      <td>(747, 256)</td>\n",
              "      <td>(747, 597)</td>\n",
              "      <td>(320, 768)</td>\n",
              "      <td>(533, 597)</td>\n",
              "      <td>(320, 427)</td>\n",
              "    </tr>\n",
              "    <tr>\n",
              "      <th>131</th>\n",
              "      <td>132</td>\n",
              "      <td>58</td>\n",
              "      <td>0.35</td>\n",
              "      <td>1500</td>\n",
              "      <td>(704, 563)</td>\n",
              "      <td>(448, 461)</td>\n",
              "      <td>(576, 461)</td>\n",
              "      <td>(448, 666)</td>\n",
              "      <td>(704, 358)</td>\n",
              "    </tr>\n",
              "    <tr>\n",
              "      <th>132</th>\n",
              "      <td>133</td>\n",
              "      <td>105</td>\n",
              "      <td>0.25</td>\n",
              "      <td>1500</td>\n",
              "      <td>(320, 256)</td>\n",
              "      <td>(960, 597)</td>\n",
              "      <td>(533, 427)</td>\n",
              "      <td>(747, 597)</td>\n",
              "      <td>(320, 597)</td>\n",
              "    </tr>\n",
              "    <tr>\n",
              "      <th>133</th>\n",
              "      <td>134</td>\n",
              "      <td>45</td>\n",
              "      <td>0.40</td>\n",
              "      <td>250</td>\n",
              "      <td>(512, 478)</td>\n",
              "      <td>(512, 546)</td>\n",
              "      <td>(512, 614)</td>\n",
              "      <td>(597, 478)</td>\n",
              "      <td>(768, 478)</td>\n",
              "    </tr>\n",
              "  </tbody>\n",
              "</table>\n",
              "<p>134 rows × 9 columns</p>\n",
              "</div>"
            ],
            "text/plain": [
              "     trialId  seqId  grid   dur  ...       locP2       locP3       locP4       locP5\n",
              "0          1     80  0.35   500  ...  (576, 563)  (576, 461)  (704, 666)  (832, 563)\n",
              "1          2     42  0.40   250  ...  (768, 410)  (768, 478)  (512, 614)  (683, 546)\n",
              "2          3     55  0.35  1500  ...  (448, 358)  (448, 461)  (704, 461)  (832, 461)\n",
              "3          4     66  0.35  1000  ...  (704, 666)  (832, 461)  (576, 358)  (832, 666)\n",
              "4          5     81  0.35   500  ...  (832, 563)  (448, 461)  (576, 461)  (704, 563)\n",
              "..       ...    ...   ...   ...  ...         ...         ...         ...         ...\n",
              "129      130     87  0.35   250  ...  (448, 461)  (704, 461)  (832, 666)  (832, 461)\n",
              "130      131    121  0.25   500  ...  (747, 597)  (320, 768)  (533, 597)  (320, 427)\n",
              "131      132     58  0.35  1500  ...  (448, 461)  (576, 461)  (448, 666)  (704, 358)\n",
              "132      133    105  0.25  1500  ...  (960, 597)  (533, 427)  (747, 597)  (320, 597)\n",
              "133      134     45  0.40   250  ...  (512, 546)  (512, 614)  (597, 478)  (768, 478)\n",
              "\n",
              "[134 rows x 9 columns]"
            ]
          },
          "metadata": {
            "tags": []
          },
          "execution_count": 17
        }
      ]
    },
    {
      "cell_type": "code",
      "metadata": {
        "id": "Jm1WKu7ktjyJ",
        "colab_type": "code",
        "colab": {
          "base_uri": "https://localhost:8080/",
          "height": 34
        },
        "outputId": "6ac23588-6dd3-4af0-d3f9-0d3e05357e86"
      },
      "source": [
        "trial_vars_1.shape"
      ],
      "execution_count": 11,
      "outputs": [
        {
          "output_type": "execute_result",
          "data": {
            "text/plain": [
              "(144, 9)"
            ]
          },
          "metadata": {
            "tags": []
          },
          "execution_count": 11
        }
      ]
    },
    {
      "cell_type": "markdown",
      "metadata": {
        "id": "0eqOONqPvvXU",
        "colab_type": "text"
      },
      "source": [
        "Qs:\n",
        "- What exctly do the vars mean:   \n",
        "seqID?   \n",
        "grid   \n",
        "dur   \n",
        "loc..  "
      ]
    },
    {
      "cell_type": "code",
      "metadata": {
        "id": "I2sTDqsNtwkz",
        "colab_type": "code",
        "colab": {}
      },
      "source": [
        "data1 = pd.read_csv('1_1.csv', sep='\\t')"
      ],
      "execution_count": 0,
      "outputs": []
    },
    {
      "cell_type": "code",
      "metadata": {
        "id": "DcdwhXsIuHqF",
        "colab_type": "code",
        "colab": {
          "base_uri": "https://localhost:8080/",
          "height": 224
        },
        "outputId": "4d6550f2-8ee2-4d99-b001-95cc8047f1c9"
      },
      "source": [
        "data1.head()"
      ],
      "execution_count": 13,
      "outputs": [
        {
          "output_type": "execute_result",
          "data": {
            "text/html": [
              "<div>\n",
              "<style scoped>\n",
              "    .dataframe tbody tr th:only-of-type {\n",
              "        vertical-align: middle;\n",
              "    }\n",
              "\n",
              "    .dataframe tbody tr th {\n",
              "        vertical-align: top;\n",
              "    }\n",
              "\n",
              "    .dataframe thead th {\n",
              "        text-align: right;\n",
              "    }\n",
              "</style>\n",
              "<table border=\"1\" class=\"dataframe\">\n",
              "  <thead>\n",
              "    <tr style=\"text-align: right;\">\n",
              "      <th></th>\n",
              "      <th>trialId</th>\n",
              "      <th>pointId</th>\n",
              "      <th>time</th>\n",
              "      <th>x_left</th>\n",
              "      <th>y_left</th>\n",
              "      <th>pupil_left</th>\n",
              "      <th>x_right</th>\n",
              "      <th>y_right</th>\n",
              "      <th>pupil_right</th>\n",
              "    </tr>\n",
              "  </thead>\n",
              "  <tbody>\n",
              "    <tr>\n",
              "      <th>0</th>\n",
              "      <td>1</td>\n",
              "      <td>1</td>\n",
              "      <td>4199017.0</td>\n",
              "      <td>624.7</td>\n",
              "      <td>512.0</td>\n",
              "      <td>765.0</td>\n",
              "      <td>624.0</td>\n",
              "      <td>508.2</td>\n",
              "      <td>750.0</td>\n",
              "    </tr>\n",
              "    <tr>\n",
              "      <th>1</th>\n",
              "      <td>1</td>\n",
              "      <td>1</td>\n",
              "      <td>4199017.0</td>\n",
              "      <td>624.1</td>\n",
              "      <td>511.8</td>\n",
              "      <td>764.0</td>\n",
              "      <td>625.0</td>\n",
              "      <td>508.0</td>\n",
              "      <td>749.0</td>\n",
              "    </tr>\n",
              "    <tr>\n",
              "      <th>2</th>\n",
              "      <td>1</td>\n",
              "      <td>1</td>\n",
              "      <td>4199018.0</td>\n",
              "      <td>623.8</td>\n",
              "      <td>511.4</td>\n",
              "      <td>763.0</td>\n",
              "      <td>624.8</td>\n",
              "      <td>507.9</td>\n",
              "      <td>747.0</td>\n",
              "    </tr>\n",
              "    <tr>\n",
              "      <th>3</th>\n",
              "      <td>1</td>\n",
              "      <td>1</td>\n",
              "      <td>4199018.0</td>\n",
              "      <td>624.4</td>\n",
              "      <td>511.4</td>\n",
              "      <td>761.0</td>\n",
              "      <td>624.6</td>\n",
              "      <td>507.8</td>\n",
              "      <td>744.0</td>\n",
              "    </tr>\n",
              "    <tr>\n",
              "      <th>4</th>\n",
              "      <td>1</td>\n",
              "      <td>1</td>\n",
              "      <td>4199019.0</td>\n",
              "      <td>625.3</td>\n",
              "      <td>512.4</td>\n",
              "      <td>759.0</td>\n",
              "      <td>624.1</td>\n",
              "      <td>507.9</td>\n",
              "      <td>744.0</td>\n",
              "    </tr>\n",
              "  </tbody>\n",
              "</table>\n",
              "</div>"
            ],
            "text/plain": [
              "   trialId  pointId       time  ...  x_right  y_right  pupil_right\n",
              "0        1        1  4199017.0  ...    624.0    508.2        750.0\n",
              "1        1        1  4199017.0  ...    625.0    508.0        749.0\n",
              "2        1        1  4199018.0  ...    624.8    507.9        747.0\n",
              "3        1        1  4199018.0  ...    624.6    507.8        744.0\n",
              "4        1        1  4199019.0  ...    624.1    507.9        744.0\n",
              "\n",
              "[5 rows x 9 columns]"
            ]
          },
          "metadata": {
            "tags": []
          },
          "execution_count": 13
        }
      ]
    },
    {
      "cell_type": "code",
      "metadata": {
        "id": "g2yJPV45uJfh",
        "colab_type": "code",
        "colab": {
          "base_uri": "https://localhost:8080/",
          "height": 34
        },
        "outputId": "cb51dafc-70bc-4fba-d606-fbc5f7957471"
      },
      "source": [
        "data1.shape"
      ],
      "execution_count": 14,
      "outputs": [
        {
          "output_type": "execute_result",
          "data": {
            "text/plain": [
              "(1143886, 9)"
            ]
          },
          "metadata": {
            "tags": []
          },
          "execution_count": 14
        }
      ]
    },
    {
      "cell_type": "markdown",
      "metadata": {
        "id": "OuMnZt1SwJxz",
        "colab_type": "text"
      },
      "source": [
        "Again, what exactly do vars mean? "
      ]
    },
    {
      "cell_type": "code",
      "metadata": {
        "id": "Tn2bh_UBvOSI",
        "colab_type": "code",
        "colab": {}
      },
      "source": [
        ""
      ],
      "execution_count": 0,
      "outputs": []
    }
  ]
}